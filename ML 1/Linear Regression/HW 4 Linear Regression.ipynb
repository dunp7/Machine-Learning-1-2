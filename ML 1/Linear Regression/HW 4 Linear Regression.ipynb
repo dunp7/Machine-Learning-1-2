{
 "cells": [
  {
   "cell_type": "markdown",
   "id": "849e8692",
   "metadata": {},
   "source": [
    "# Ex 2"
   ]
  },
  {
   "cell_type": "code",
   "execution_count": 1,
   "id": "20011388",
   "metadata": {},
   "outputs": [],
   "source": [
    "import pandas as pd\n",
    "import numpy as np \n",
    "import matplotlib.pyplot as plt\n"
   ]
  },
  {
   "cell_type": "code",
   "execution_count": 2,
   "id": "ca5c1052",
   "metadata": {},
   "outputs": [
    {
     "data": {
      "text/html": [
       "<div>\n",
       "<style scoped>\n",
       "    .dataframe tbody tr th:only-of-type {\n",
       "        vertical-align: middle;\n",
       "    }\n",
       "\n",
       "    .dataframe tbody tr th {\n",
       "        vertical-align: top;\n",
       "    }\n",
       "\n",
       "    .dataframe thead th {\n",
       "        text-align: right;\n",
       "    }\n",
       "</style>\n",
       "<table border=\"1\" class=\"dataframe\">\n",
       "  <thead>\n",
       "    <tr style=\"text-align: right;\">\n",
       "      <th></th>\n",
       "      <th>Diện tích</th>\n",
       "      <th>Giá</th>\n",
       "    </tr>\n",
       "  </thead>\n",
       "  <tbody>\n",
       "    <tr>\n",
       "      <th>0</th>\n",
       "      <td>30.0000</td>\n",
       "      <td>448.524</td>\n",
       "    </tr>\n",
       "    <tr>\n",
       "      <th>1</th>\n",
       "      <td>32.4138</td>\n",
       "      <td>509.248</td>\n",
       "    </tr>\n",
       "    <tr>\n",
       "      <th>2</th>\n",
       "      <td>34.8276</td>\n",
       "      <td>535.104</td>\n",
       "    </tr>\n",
       "    <tr>\n",
       "      <th>3</th>\n",
       "      <td>37.2414</td>\n",
       "      <td>551.432</td>\n",
       "    </tr>\n",
       "    <tr>\n",
       "      <th>4</th>\n",
       "      <td>39.6552</td>\n",
       "      <td>623.418</td>\n",
       "    </tr>\n",
       "    <tr>\n",
       "      <th>5</th>\n",
       "      <td>42.0690</td>\n",
       "      <td>625.992</td>\n",
       "    </tr>\n",
       "    <tr>\n",
       "      <th>6</th>\n",
       "      <td>44.4828</td>\n",
       "      <td>655.248</td>\n",
       "    </tr>\n",
       "    <tr>\n",
       "      <th>7</th>\n",
       "      <td>46.8966</td>\n",
       "      <td>701.377</td>\n",
       "    </tr>\n",
       "    <tr>\n",
       "      <th>8</th>\n",
       "      <td>49.3103</td>\n",
       "      <td>748.918</td>\n",
       "    </tr>\n",
       "    <tr>\n",
       "      <th>9</th>\n",
       "      <td>51.7241</td>\n",
       "      <td>757.881</td>\n",
       "    </tr>\n",
       "    <tr>\n",
       "      <th>10</th>\n",
       "      <td>54.1379</td>\n",
       "      <td>831.004</td>\n",
       "    </tr>\n",
       "    <tr>\n",
       "      <th>11</th>\n",
       "      <td>56.5517</td>\n",
       "      <td>855.409</td>\n",
       "    </tr>\n",
       "    <tr>\n",
       "      <th>12</th>\n",
       "      <td>58.9655</td>\n",
       "      <td>866.707</td>\n",
       "    </tr>\n",
       "    <tr>\n",
       "      <th>13</th>\n",
       "      <td>61.3793</td>\n",
       "      <td>902.545</td>\n",
       "    </tr>\n",
       "    <tr>\n",
       "      <th>14</th>\n",
       "      <td>63.7931</td>\n",
       "      <td>952.261</td>\n",
       "    </tr>\n",
       "    <tr>\n",
       "      <th>15</th>\n",
       "      <td>66.2069</td>\n",
       "      <td>995.531</td>\n",
       "    </tr>\n",
       "    <tr>\n",
       "      <th>16</th>\n",
       "      <td>68.6207</td>\n",
       "      <td>1069.780</td>\n",
       "    </tr>\n",
       "    <tr>\n",
       "      <th>17</th>\n",
       "      <td>71.0345</td>\n",
       "      <td>1074.420</td>\n",
       "    </tr>\n",
       "    <tr>\n",
       "      <th>18</th>\n",
       "      <td>73.4483</td>\n",
       "      <td>1103.880</td>\n",
       "    </tr>\n",
       "    <tr>\n",
       "      <th>19</th>\n",
       "      <td>75.8621</td>\n",
       "      <td>1138.690</td>\n",
       "    </tr>\n",
       "    <tr>\n",
       "      <th>20</th>\n",
       "      <td>78.2759</td>\n",
       "      <td>1153.130</td>\n",
       "    </tr>\n",
       "    <tr>\n",
       "      <th>21</th>\n",
       "      <td>80.6897</td>\n",
       "      <td>1240.270</td>\n",
       "    </tr>\n",
       "    <tr>\n",
       "      <th>22</th>\n",
       "      <td>83.1034</td>\n",
       "      <td>1251.900</td>\n",
       "    </tr>\n",
       "    <tr>\n",
       "      <th>23</th>\n",
       "      <td>85.5172</td>\n",
       "      <td>1287.970</td>\n",
       "    </tr>\n",
       "    <tr>\n",
       "      <th>24</th>\n",
       "      <td>87.9310</td>\n",
       "      <td>1320.470</td>\n",
       "    </tr>\n",
       "    <tr>\n",
       "      <th>25</th>\n",
       "      <td>90.3448</td>\n",
       "      <td>1374.920</td>\n",
       "    </tr>\n",
       "    <tr>\n",
       "      <th>26</th>\n",
       "      <td>92.7586</td>\n",
       "      <td>1410.160</td>\n",
       "    </tr>\n",
       "    <tr>\n",
       "      <th>27</th>\n",
       "      <td>95.1724</td>\n",
       "      <td>1469.690</td>\n",
       "    </tr>\n",
       "    <tr>\n",
       "      <th>28</th>\n",
       "      <td>97.5862</td>\n",
       "      <td>1478.540</td>\n",
       "    </tr>\n",
       "    <tr>\n",
       "      <th>29</th>\n",
       "      <td>100.0000</td>\n",
       "      <td>1515.280</td>\n",
       "    </tr>\n",
       "  </tbody>\n",
       "</table>\n",
       "</div>"
      ],
      "text/plain": [
       "    Diện tích       Giá\n",
       "0     30.0000   448.524\n",
       "1     32.4138   509.248\n",
       "2     34.8276   535.104\n",
       "3     37.2414   551.432\n",
       "4     39.6552   623.418\n",
       "5     42.0690   625.992\n",
       "6     44.4828   655.248\n",
       "7     46.8966   701.377\n",
       "8     49.3103   748.918\n",
       "9     51.7241   757.881\n",
       "10    54.1379   831.004\n",
       "11    56.5517   855.409\n",
       "12    58.9655   866.707\n",
       "13    61.3793   902.545\n",
       "14    63.7931   952.261\n",
       "15    66.2069   995.531\n",
       "16    68.6207  1069.780\n",
       "17    71.0345  1074.420\n",
       "18    73.4483  1103.880\n",
       "19    75.8621  1138.690\n",
       "20    78.2759  1153.130\n",
       "21    80.6897  1240.270\n",
       "22    83.1034  1251.900\n",
       "23    85.5172  1287.970\n",
       "24    87.9310  1320.470\n",
       "25    90.3448  1374.920\n",
       "26    92.7586  1410.160\n",
       "27    95.1724  1469.690\n",
       "28    97.5862  1478.540\n",
       "29   100.0000  1515.280"
      ]
     },
     "execution_count": 2,
     "metadata": {},
     "output_type": "execute_result"
    }
   ],
   "source": [
    "data1 = pd.read_csv('data_linear.csv')\n",
    "data1"
   ]
  },
  {
   "cell_type": "code",
   "execution_count": 3,
   "id": "2a7de9f3",
   "metadata": {},
   "outputs": [
    {
     "data": {
      "image/png": "[encoded data removed]",
      "text/plain": [
       "<Figure size 432x288 with 1 Axes>"
      ]
     },
     "metadata": {
      "needs_background": "light"
     },
     "output_type": "display_data"
    }
   ],
   "source": [
    "# Dien Tich\n",
    "X = data1['Diện tích']\n",
    "# Price\n",
    "y = data1['Giá']\n",
    "# Visualize data \n",
    "plt.plot(X, y, 'ro')\n",
    "plt.xlabel('Diện tích')\n",
    "plt.ylabel('Giá')\n",
    "plt.show()"
   ]
  },
  {
   "cell_type": "markdown",
   "id": "2158759f",
   "metadata": {},
   "source": [
    "## Linear Regression (Giá nhà) = w_1*(Diện Tích) + w_0"
   ]
  },
  {
   "cell_type": "code",
   "execution_count": 4,
   "id": "218d0893",
   "metadata": {},
   "outputs": [],
   "source": [
    "# Building X with 2 columns are 1 and x1 to xn\n",
    "X1 = X.values.reshape(-1, 1)\n",
    "one = np.ones((len(X), 1))\n",
    "X_new = np.concatenate((one, X1), axis = 1)\n"
   ]
  },
  {
   "cell_type": "code",
   "execution_count": 5,
   "id": "5ad9e9d7",
   "metadata": {},
   "outputs": [
    {
     "data": {
      "text/plain": [
       "array([-7.06426865, 15.2110908 ])"
      ]
     },
     "execution_count": 5,
     "metadata": {},
     "output_type": "execute_result"
    }
   ],
   "source": [
    "# Calculating we of the fitting line \n",
    "XT_X = np.dot(X_new.T, X_new)\n",
    "XT_t = np.dot(X_new.T, y)\n",
    "w = np.dot(np.linalg.pinv(XT_X), XT_t)\n",
    "w"
   ]
  },
  {
   "cell_type": "code",
   "execution_count": 6,
   "id": "cadff780",
   "metadata": {},
   "outputs": [
    {
     "data": {
      "image/png": "[encoded data removed]",
      "text/plain": [
       "<Figure size 432x288 with 1 Axes>"
      ]
     },
     "metadata": {
      "needs_background": "light"
     },
     "output_type": "display_data"
    }
   ],
   "source": [
    "# Preparing the fitting line \n",
    "w_0 = w[0]\n",
    "w_1 = w[1]\n",
    "x0 = np.linspace(20,110,2)\n",
    "y0 = w_0 + w_1*x0\n",
    "\n",
    "# Drawing the fitting line \n",
    "plt.plot(X, y, 'ro')     # data \n",
    "plt.plot(x0, y0)               # the fitting line\n",
    "plt.xlabel('Dien Tich')\n",
    "plt.ylabel('Gia nha')\n",
    "plt.show()"
   ]
  },
  {
   "cell_type": "code",
   "execution_count": 7,
   "id": "39e3b24a",
   "metadata": {},
   "outputs": [
    {
     "name": "stdout",
     "output_type": "stream",
     "text": [
      "Predicted Price Values Respectively \n",
      " 753.49\n",
      " 1514.04 \n",
      " 2274.6\n"
     ]
    }
   ],
   "source": [
    "y1 = round(w_1*50 + w_0,2)\n",
    "y2 = round(w_1*100 + w_0,2)\n",
    "y3 = round(w_1*150 + w_0,2)\n",
    "\n",
    "print(f'Predicted Price Values Respectively \\n {y1}\\n {y2} \\n {y3}')"
   ]
  },
  {
   "cell_type": "markdown",
   "id": "56dbd488",
   "metadata": {},
   "source": [
    "# Ex 3"
   ]
  },
  {
   "cell_type": "markdown",
   "id": "9541a077",
   "metadata": {},
   "source": [
    "ZN: proportion of residential land zoned for lots over 25,000 sq.ft.\n",
    "\n",
    "INDUS: proportion of non-retail business acres per town\n",
    "\n",
    "CHAS: Charles River dummy variable (= 1 if tract bounds river; 0 otherwise)\n",
    "\n",
    "NOX: nitric oxides concentration (parts per 10 million)\n",
    "1https://archive.ics.uci.edu/ml/datasets/Housing\n",
    "123\n",
    "20.2. Load the Dataset 124\n",
    "\n",
    "RM: average number of rooms per dwelling\n",
    "\n",
    "AGE: proportion of owner-occupied units built prior to 1940\n",
    "\n",
    "DIS: weighted distances to ﬁve Boston employment centers\n",
    "\n",
    "RAD: index of accessibility to radial highways\n",
    "\n",
    "TAX: full-value property-tax rate per $10,000\n",
    "\n",
    "PTRATIO: pupil-teacher ratio by town 12. B: 1000(Bk−0.63)2 where Bk is the proportion of blacks by town 13. LSTAT: % lower status of the population\n",
    "\n",
    "MEDV: Median value of owner-occupied homes in $1000s\n"
   ]
  },
  {
   "cell_type": "code",
   "execution_count": 8,
   "id": "64409d6c",
   "metadata": {},
   "outputs": [
    {
     "data": {
      "text/html": [
       "<div>\n",
       "<style scoped>\n",
       "    .dataframe tbody tr th:only-of-type {\n",
       "        vertical-align: middle;\n",
       "    }\n",
       "\n",
       "    .dataframe tbody tr th {\n",
       "        vertical-align: top;\n",
       "    }\n",
       "\n",
       "    .dataframe thead th {\n",
       "        text-align: right;\n",
       "    }\n",
       "</style>\n",
       "<table border=\"1\" class=\"dataframe\">\n",
       "  <thead>\n",
       "    <tr style=\"text-align: right;\">\n",
       "      <th></th>\n",
       "      <th>CRIM</th>\n",
       "      <th>ZN</th>\n",
       "      <th>INDUS</th>\n",
       "      <th>CHAS</th>\n",
       "      <th>NOX</th>\n",
       "      <th>RM</th>\n",
       "      <th>AGE</th>\n",
       "      <th>DIS</th>\n",
       "      <th>RAD</th>\n",
       "      <th>TAX</th>\n",
       "      <th>PTRATIO</th>\n",
       "      <th>B</th>\n",
       "      <th>LSTAT</th>\n",
       "      <th>MEDV</th>\n",
       "    </tr>\n",
       "  </thead>\n",
       "  <tbody>\n",
       "    <tr>\n",
       "      <th>0</th>\n",
       "      <td>0.00632</td>\n",
       "      <td>18.0</td>\n",
       "      <td>2.31</td>\n",
       "      <td>0</td>\n",
       "      <td>0.538</td>\n",
       "      <td>6.575</td>\n",
       "      <td>65.2</td>\n",
       "      <td>4.0900</td>\n",
       "      <td>1</td>\n",
       "      <td>296.0</td>\n",
       "      <td>15.3</td>\n",
       "      <td>396.90</td>\n",
       "      <td>4.98</td>\n",
       "      <td>24.0</td>\n",
       "    </tr>\n",
       "    <tr>\n",
       "      <th>1</th>\n",
       "      <td>0.02731</td>\n",
       "      <td>0.0</td>\n",
       "      <td>7.07</td>\n",
       "      <td>0</td>\n",
       "      <td>0.469</td>\n",
       "      <td>6.421</td>\n",
       "      <td>78.9</td>\n",
       "      <td>4.9671</td>\n",
       "      <td>2</td>\n",
       "      <td>242.0</td>\n",
       "      <td>17.8</td>\n",
       "      <td>396.90</td>\n",
       "      <td>9.14</td>\n",
       "      <td>21.6</td>\n",
       "    </tr>\n",
       "    <tr>\n",
       "      <th>2</th>\n",
       "      <td>0.02729</td>\n",
       "      <td>0.0</td>\n",
       "      <td>7.07</td>\n",
       "      <td>0</td>\n",
       "      <td>0.469</td>\n",
       "      <td>7.185</td>\n",
       "      <td>61.1</td>\n",
       "      <td>4.9671</td>\n",
       "      <td>2</td>\n",
       "      <td>242.0</td>\n",
       "      <td>17.8</td>\n",
       "      <td>392.83</td>\n",
       "      <td>4.03</td>\n",
       "      <td>34.7</td>\n",
       "    </tr>\n",
       "    <tr>\n",
       "      <th>3</th>\n",
       "      <td>0.03237</td>\n",
       "      <td>0.0</td>\n",
       "      <td>2.18</td>\n",
       "      <td>0</td>\n",
       "      <td>0.458</td>\n",
       "      <td>6.998</td>\n",
       "      <td>45.8</td>\n",
       "      <td>6.0622</td>\n",
       "      <td>3</td>\n",
       "      <td>222.0</td>\n",
       "      <td>18.7</td>\n",
       "      <td>394.63</td>\n",
       "      <td>2.94</td>\n",
       "      <td>33.4</td>\n",
       "    </tr>\n",
       "    <tr>\n",
       "      <th>4</th>\n",
       "      <td>0.06905</td>\n",
       "      <td>0.0</td>\n",
       "      <td>2.18</td>\n",
       "      <td>0</td>\n",
       "      <td>0.458</td>\n",
       "      <td>7.147</td>\n",
       "      <td>54.2</td>\n",
       "      <td>6.0622</td>\n",
       "      <td>3</td>\n",
       "      <td>222.0</td>\n",
       "      <td>18.7</td>\n",
       "      <td>396.90</td>\n",
       "      <td>5.33</td>\n",
       "      <td>36.2</td>\n",
       "    </tr>\n",
       "  </tbody>\n",
       "</table>\n",
       "</div>"
      ],
      "text/plain": [
       "      CRIM    ZN  INDUS  CHAS    NOX     RM   AGE     DIS  RAD    TAX  \\\n",
       "0  0.00632  18.0   2.31     0  0.538  6.575  65.2  4.0900    1  296.0   \n",
       "1  0.02731   0.0   7.07     0  0.469  6.421  78.9  4.9671    2  242.0   \n",
       "2  0.02729   0.0   7.07     0  0.469  7.185  61.1  4.9671    2  242.0   \n",
       "3  0.03237   0.0   2.18     0  0.458  6.998  45.8  6.0622    3  222.0   \n",
       "4  0.06905   0.0   2.18     0  0.458  7.147  54.2  6.0622    3  222.0   \n",
       "\n",
       "   PTRATIO       B  LSTAT  MEDV  \n",
       "0     15.3  396.90   4.98  24.0  \n",
       "1     17.8  396.90   9.14  21.6  \n",
       "2     17.8  392.83   4.03  34.7  \n",
       "3     18.7  394.63   2.94  33.4  \n",
       "4     18.7  396.90   5.33  36.2  "
      ]
     },
     "execution_count": 8,
     "metadata": {},
     "output_type": "execute_result"
    }
   ],
   "source": [
    "column_names = ['CRIM', 'ZN', 'INDUS', 'CHAS', 'NOX', 'RM', 'AGE', 'DIS', 'RAD', 'TAX', 'PTRATIO', 'B', 'LSTAT', 'MEDV']\n",
    "data_3 = pd.read_csv('housing.csv', header=None, delimiter=r\"\\s+\", names=column_names)\n",
    "data_3.head()"
   ]
  },
  {
   "cell_type": "code",
   "execution_count": 9,
   "id": "dd864345",
   "metadata": {},
   "outputs": [
    {
     "data": {
      "text/plain": [
       "(506, 14)"
      ]
     },
     "execution_count": 9,
     "metadata": {},
     "output_type": "execute_result"
    }
   ],
   "source": [
    "size = np.shape(data_3)\n",
    "size"
   ]
  },
  {
   "cell_type": "code",
   "execution_count": 10,
   "id": "00eaccfe",
   "metadata": {},
   "outputs": [],
   "source": [
    "#split into train and test data\n",
    "train_data = data_3.iloc[:500]\n",
    "test_data = data_3.iloc[500:size[0]]"
   ]
  },
  {
   "cell_type": "code",
   "execution_count": 11,
   "id": "172851dc",
   "metadata": {},
   "outputs": [],
   "source": [
    "X_data = train_data.drop(columns='MEDV')\n",
    "Y_data = train_data[['MEDV']]\n",
    "\n"
   ]
  },
  {
   "cell_type": "markdown",
   "id": "245c33c0",
   "metadata": {},
   "source": [
    "## Linear Regression"
   ]
  },
  {
   "cell_type": "code",
   "execution_count": 12,
   "id": "0059db9c",
   "metadata": {},
   "outputs": [
    {
     "data": {
      "text/plain": [
       "array([[1.0000e+00, 6.3200e-03, 1.8000e+01, ..., 1.5300e+01, 3.9690e+02,\n",
       "        4.9800e+00],\n",
       "       [1.0000e+00, 2.7310e-02, 0.0000e+00, ..., 1.7800e+01, 3.9690e+02,\n",
       "        9.1400e+00],\n",
       "       [1.0000e+00, 2.7290e-02, 0.0000e+00, ..., 1.7800e+01, 3.9283e+02,\n",
       "        4.0300e+00],\n",
       "       ...,\n",
       "       [1.0000e+00, 2.6838e-01, 0.0000e+00, ..., 1.9200e+01, 3.9690e+02,\n",
       "        1.4100e+01],\n",
       "       [1.0000e+00, 2.3912e-01, 0.0000e+00, ..., 1.9200e+01, 3.9690e+02,\n",
       "        1.2920e+01],\n",
       "       [1.0000e+00, 1.7783e-01, 0.0000e+00, ..., 1.9200e+01, 3.9577e+02,\n",
       "        1.5100e+01]])"
      ]
     },
     "execution_count": 12,
     "metadata": {},
     "output_type": "execute_result"
    }
   ],
   "source": [
    "# Attribute in Model \n",
    "X = X_data.values\n",
    "one = np.ones((train_data.shape[0], 1))\n",
    "X1 = np.concatenate((one, X), axis = 1)\n",
    "X1"
   ]
  },
  {
   "cell_type": "code",
   "execution_count": 13,
   "id": "33f25bcb",
   "metadata": {},
   "outputs": [
    {
     "data": {
      "text/plain": [
       "array([[ 3.54068339e+01],\n",
       "       [-1.05855998e-01],\n",
       "       [ 4.87517296e-02],\n",
       "       [ 1.82934523e-02],\n",
       "       [ 2.61119923e+00],\n",
       "       [-1.70062416e+01],\n",
       "       [ 3.79736168e+00],\n",
       "       [ 2.02008117e-03],\n",
       "       [-1.51449492e+00],\n",
       "       [ 2.90883354e-01],\n",
       "       [-1.25645889e-02],\n",
       "       [-8.85637329e-01],\n",
       "       [ 9.29626996e-03],\n",
       "       [-5.38781881e-01]])"
      ]
     },
     "execution_count": 13,
     "metadata": {},
     "output_type": "execute_result"
    }
   ],
   "source": [
    "# calculate w \n",
    "XT_X = np.dot(X1.T, X1)\n",
    "XT_t = np.dot(X1.T, Y_data.values)\n",
    "w = np.dot(np.linalg.pinv(XT_X), XT_t)\n",
    "w"
   ]
  },
  {
   "cell_type": "markdown",
   "id": "f1c53bb3",
   "metadata": {},
   "source": [
    "## Model after estimating w"
   ]
  },
  {
   "cell_type": "code",
   "execution_count": 14,
   "id": "6d02e74d",
   "metadata": {},
   "outputs": [
    {
     "data": {
      "text/plain": [
       "'MEDV_hat = [35.40683395] +[-0.105856]CRIM +[0.04875173]ZN +[0.01829345]INDUS +[2.61119923]CHAS +[-17.00624156]NOX +[3.79736168]RM +[0.00202008]AGE +[-1.51449492]DIS +[0.29088335]RAD +[-0.01256459]TAX +[-0.88563733]PTRATIO +[0.00929627]B +[-0.53878188]LSTAT +'"
      ]
     },
     "execution_count": 14,
     "metadata": {},
     "output_type": "execute_result"
    }
   ],
   "source": [
    "linear_regression_func = 'MEDV_hat = '\n",
    "for i in range(len(w)):\n",
    "    if i == 0:\n",
    "        linear_regression_func += f'{w[i]} +'\n",
    "    else:\n",
    "        linear_regression_func += f'{w[i]}{column_names[i-1]} +'\n",
    "linear_regression_func"
   ]
  },
  {
   "cell_type": "markdown",
   "id": "aadde164",
   "metadata": {},
   "source": [
    "## Testing for test_data"
   ]
  },
  {
   "cell_type": "code",
   "execution_count": 20,
   "id": "253fab13",
   "metadata": {},
   "outputs": [
    {
     "data": {
      "text/plain": [
       "array([16.8, 22.4, 20.6, 23.9, 22. , 11.9])"
      ]
     },
     "execution_count": 20,
     "metadata": {},
     "output_type": "execute_result"
    }
   ],
   "source": [
    "# Actual data \n",
    "actual_data = test_data['MEDV']\n",
    "actual_data"
   ]
  },
  {
   "cell_type": "code",
   "execution_count": null,
   "id": "626c32f6",
   "metadata": {},
   "outputs": [],
   "source": [
    "actual_data.values"
   ]
  },
  {
   "cell_type": "code",
   "execution_count": 16,
   "id": "1dcd3bdc",
   "metadata": {},
   "outputs": [],
   "source": [
    "test_data = test_data.drop(columns='MEDV')\n",
    "# chuyen ve ma tran co them cot 1\n",
    "one_test = np.ones((test_data.shape[0], 1))\n",
    "test_data_x = np.concatenate((one_test, test_data.values), axis = 1)"
   ]
  },
  {
   "cell_type": "code",
   "execution_count": 17,
   "id": "5894cd46",
   "metadata": {},
   "outputs": [
    {
     "data": {
      "text/plain": [
       "array([[20.67313667],\n",
       "       [23.99202547],\n",
       "       [22.86600965],\n",
       "       [28.17894777],\n",
       "       [26.65926677],\n",
       "       [22.84943851]])"
      ]
     },
     "execution_count": 17,
     "metadata": {},
     "output_type": "execute_result"
    }
   ],
   "source": [
    "testing = np.dot(test_data_x,w)\n",
    "testing"
   ]
  },
  {
   "cell_type": "markdown",
   "id": "e4522930",
   "metadata": {},
   "source": [
    "## Difference between y(x,w) and p(t|x,w,B^-1)"
   ]
  },
  {
   "cell_type": "code",
   "execution_count": 25,
   "id": "959aaf54",
   "metadata": {},
   "outputs": [
    {
     "data": {
      "text/plain": [
       "[array([3.87313667]),\n",
       " array([1.59202547]),\n",
       " array([2.26600965]),\n",
       " array([4.27894777]),\n",
       " array([4.65926677]),\n",
       " array([10.94943851])]"
      ]
     },
     "execution_count": 25,
     "metadata": {},
     "output_type": "execute_result"
    }
   ],
   "source": [
    "difference = [abs(actual_data.values[i]-testing[i]) for i in range(len(testing))]\n",
    "difference"
   ]
  },
  {
   "cell_type": "code",
   "execution_count": null,
   "id": "323a4840",
   "metadata": {},
   "outputs": [],
   "source": []
  }
 ],
 "metadata": {
  "kernelspec": {
   "display_name": "Python 3 (ipykernel)",
   "language": "python",
   "name": "python3"
  },
  "language_info": {
   "codemirror_mode": {
    "name": "ipython",
    "version": 3
   },
   "file_extension": ".py",
   "mimetype": "text/x-python",
   "name": "python",
   "nbconvert_exporter": "python",
   "pygments_lexer": "ipython3",
   "version": "3.9.12"
  }
 },
 "nbformat": 4,
 "nbformat_minor": 5
}
