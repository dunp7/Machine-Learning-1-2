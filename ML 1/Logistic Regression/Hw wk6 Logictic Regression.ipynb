{
 "cells": [
  {
   "cell_type": "code",
   "execution_count": 1,
   "id": "a9456850",
   "metadata": {},
   "outputs": [],
   "source": [
    "import pandas as pd\n",
    "import numpy as np\n",
    "import matplotlib.pyplot as plt"
   ]
  },
  {
   "cell_type": "code",
   "execution_count": 2,
   "id": "72a89bbb",
   "metadata": {},
   "outputs": [
    {
     "data": {
      "text/html": [
       "<div>\n",
       "<style scoped>\n",
       "    .dataframe tbody tr th:only-of-type {\n",
       "        vertical-align: middle;\n",
       "    }\n",
       "\n",
       "    .dataframe tbody tr th {\n",
       "        vertical-align: top;\n",
       "    }\n",
       "\n",
       "    .dataframe thead th {\n",
       "        text-align: right;\n",
       "    }\n",
       "</style>\n",
       "<table border=\"1\" class=\"dataframe\">\n",
       "  <thead>\n",
       "    <tr style=\"text-align: right;\">\n",
       "      <th></th>\n",
       "      <th>x_1</th>\n",
       "      <th>x_2</th>\n",
       "      <th>y</th>\n",
       "    </tr>\n",
       "  </thead>\n",
       "  <tbody>\n",
       "    <tr>\n",
       "      <th>0</th>\n",
       "      <td>2.911809</td>\n",
       "      <td>60.359613</td>\n",
       "      <td>0.0</td>\n",
       "    </tr>\n",
       "    <tr>\n",
       "      <th>1</th>\n",
       "      <td>3.774746</td>\n",
       "      <td>344.149284</td>\n",
       "      <td>0.0</td>\n",
       "    </tr>\n",
       "    <tr>\n",
       "      <th>2</th>\n",
       "      <td>2.615488</td>\n",
       "      <td>178.222087</td>\n",
       "      <td>0.0</td>\n",
       "    </tr>\n",
       "    <tr>\n",
       "      <th>3</th>\n",
       "      <td>2.013694</td>\n",
       "      <td>15.259472</td>\n",
       "      <td>0.0</td>\n",
       "    </tr>\n",
       "    <tr>\n",
       "      <th>4</th>\n",
       "      <td>2.757625</td>\n",
       "      <td>66.194174</td>\n",
       "      <td>0.0</td>\n",
       "    </tr>\n",
       "    <tr>\n",
       "      <th>...</th>\n",
       "      <td>...</td>\n",
       "      <td>...</td>\n",
       "      <td>...</td>\n",
       "    </tr>\n",
       "    <tr>\n",
       "      <th>795</th>\n",
       "      <td>3.724697</td>\n",
       "      <td>23.219963</td>\n",
       "      <td>1.0</td>\n",
       "    </tr>\n",
       "    <tr>\n",
       "      <th>796</th>\n",
       "      <td>3.139055</td>\n",
       "      <td>5.970538</td>\n",
       "      <td>1.0</td>\n",
       "    </tr>\n",
       "    <tr>\n",
       "      <th>797</th>\n",
       "      <td>2.969095</td>\n",
       "      <td>20.249978</td>\n",
       "      <td>1.0</td>\n",
       "    </tr>\n",
       "    <tr>\n",
       "      <th>798</th>\n",
       "      <td>3.957531</td>\n",
       "      <td>27.261970</td>\n",
       "      <td>1.0</td>\n",
       "    </tr>\n",
       "    <tr>\n",
       "      <th>799</th>\n",
       "      <td>4.025334</td>\n",
       "      <td>12.233165</td>\n",
       "      <td>1.0</td>\n",
       "    </tr>\n",
       "  </tbody>\n",
       "</table>\n",
       "<p>800 rows × 3 columns</p>\n",
       "</div>"
      ],
      "text/plain": [
       "          x_1         x_2    y\n",
       "0    2.911809   60.359613  0.0\n",
       "1    3.774746  344.149284  0.0\n",
       "2    2.615488  178.222087  0.0\n",
       "3    2.013694   15.259472  0.0\n",
       "4    2.757625   66.194174  0.0\n",
       "..        ...         ...  ...\n",
       "795  3.724697   23.219963  1.0\n",
       "796  3.139055    5.970538  1.0\n",
       "797  2.969095   20.249978  1.0\n",
       "798  3.957531   27.261970  1.0\n",
       "799  4.025334   12.233165  1.0\n",
       "\n",
       "[800 rows x 3 columns]"
      ]
     },
     "execution_count": 2,
     "metadata": {},
     "output_type": "execute_result"
    }
   ],
   "source": [
    "data_train = pd.read_csv('ds1_train.csv')\n",
    "data_train"
   ]
  },
  {
   "cell_type": "code",
   "execution_count": 3,
   "id": "126a611a",
   "metadata": {},
   "outputs": [
    {
     "data": {
      "text/html": [
       "<div>\n",
       "<style scoped>\n",
       "    .dataframe tbody tr th:only-of-type {\n",
       "        vertical-align: middle;\n",
       "    }\n",
       "\n",
       "    .dataframe tbody tr th {\n",
       "        vertical-align: top;\n",
       "    }\n",
       "\n",
       "    .dataframe thead th {\n",
       "        text-align: right;\n",
       "    }\n",
       "</style>\n",
       "<table border=\"1\" class=\"dataframe\">\n",
       "  <thead>\n",
       "    <tr style=\"text-align: right;\">\n",
       "      <th></th>\n",
       "      <th>x_1</th>\n",
       "      <th>x_2</th>\n",
       "      <th>y</th>\n",
       "    </tr>\n",
       "  </thead>\n",
       "  <tbody>\n",
       "    <tr>\n",
       "      <th>0</th>\n",
       "      <td>2.177396</td>\n",
       "      <td>78.630076</td>\n",
       "      <td>0.0</td>\n",
       "    </tr>\n",
       "    <tr>\n",
       "      <th>1</th>\n",
       "      <td>3.952131</td>\n",
       "      <td>123.541573</td>\n",
       "      <td>0.0</td>\n",
       "    </tr>\n",
       "    <tr>\n",
       "      <th>2</th>\n",
       "      <td>3.351176</td>\n",
       "      <td>47.752517</td>\n",
       "      <td>0.0</td>\n",
       "    </tr>\n",
       "    <tr>\n",
       "      <th>3</th>\n",
       "      <td>2.074934</td>\n",
       "      <td>26.997730</td>\n",
       "      <td>0.0</td>\n",
       "    </tr>\n",
       "    <tr>\n",
       "      <th>4</th>\n",
       "      <td>3.579775</td>\n",
       "      <td>226.703779</td>\n",
       "      <td>0.0</td>\n",
       "    </tr>\n",
       "    <tr>\n",
       "      <th>...</th>\n",
       "      <td>...</td>\n",
       "      <td>...</td>\n",
       "      <td>...</td>\n",
       "    </tr>\n",
       "    <tr>\n",
       "      <th>95</th>\n",
       "      <td>3.795618</td>\n",
       "      <td>11.708285</td>\n",
       "      <td>1.0</td>\n",
       "    </tr>\n",
       "    <tr>\n",
       "      <th>96</th>\n",
       "      <td>3.953480</td>\n",
       "      <td>7.320390</td>\n",
       "      <td>1.0</td>\n",
       "    </tr>\n",
       "    <tr>\n",
       "      <th>97</th>\n",
       "      <td>3.863524</td>\n",
       "      <td>26.396698</td>\n",
       "      <td>1.0</td>\n",
       "    </tr>\n",
       "    <tr>\n",
       "      <th>98</th>\n",
       "      <td>4.917294</td>\n",
       "      <td>102.078713</td>\n",
       "      <td>1.0</td>\n",
       "    </tr>\n",
       "    <tr>\n",
       "      <th>99</th>\n",
       "      <td>3.319729</td>\n",
       "      <td>12.761634</td>\n",
       "      <td>1.0</td>\n",
       "    </tr>\n",
       "  </tbody>\n",
       "</table>\n",
       "<p>100 rows × 3 columns</p>\n",
       "</div>"
      ],
      "text/plain": [
       "         x_1         x_2    y\n",
       "0   2.177396   78.630076  0.0\n",
       "1   3.952131  123.541573  0.0\n",
       "2   3.351176   47.752517  0.0\n",
       "3   2.074934   26.997730  0.0\n",
       "4   3.579775  226.703779  0.0\n",
       "..       ...         ...  ...\n",
       "95  3.795618   11.708285  1.0\n",
       "96  3.953480    7.320390  1.0\n",
       "97  3.863524   26.396698  1.0\n",
       "98  4.917294  102.078713  1.0\n",
       "99  3.319729   12.761634  1.0\n",
       "\n",
       "[100 rows x 3 columns]"
      ]
     },
     "execution_count": 3,
     "metadata": {},
     "output_type": "execute_result"
    }
   ],
   "source": [
    "data_valid = pd.read_csv('ds1_valid.csv')\n",
    "data_valid"
   ]
  },
  {
   "cell_type": "code",
   "execution_count": 4,
   "id": "3fd48e73",
   "metadata": {},
   "outputs": [],
   "source": [
    "def sigmoid(z):\n",
    "    return 1 / (1 + np.exp(-z))"
   ]
  },
  {
   "cell_type": "code",
   "execution_count": 5,
   "id": "194f56cd",
   "metadata": {},
   "outputs": [],
   "source": [
    "class Logistic_Regression:\n",
    "    def __init__(self,learning_rate,iterations,X,y):        \n",
    "        self._learning_rate = learning_rate\n",
    "        self._iterations = iterations\n",
    "        self._X = X.values\n",
    "        self._t = y.values.reshape(-1,1)\n",
    "        self._w = None\n",
    "        self_X_new = None\n",
    "    \n",
    "    def create_attribute(self):\n",
    "        one = np.ones((self._X.shape[0], 1))\n",
    "        self._X_new = np.concatenate((one, self._X), axis = 1)\n",
    "        self._w = np.ones([self._X_new.shape[1],1])\n",
    "    \n",
    "    def fit_model(self):\n",
    "        self.create_attribute()\n",
    "        for _ in range(self._iterations):\n",
    "            y = sigmoid(np.dot(self._X_new, self._w ))\n",
    "            loss_gradient = np.dot(self._X_new.T,y - self._t)\n",
    "            self._w = self._w - self._learning_rate * loss_gradient\n",
    "    def predict_model(self,X_test):\n",
    "        # modify X_test\n",
    "        X_test = X_test.values\n",
    "        one = np.ones((X_test.shape[0], 1))\n",
    "        X_test = np.concatenate((one, X_test), axis = 1)\n",
    "        # predict\n",
    "        self.fit_model()\n",
    "        z_predict = np.dot(X_test,self._w)\n",
    "        y_predict = sigmoid(z_predict)\n",
    "        class_1 = y_predict[y_predict < 0.5]\n",
    "        class_2 = y_predict[y_predict >= 0.5]\n",
    "        return class_1,class_2,y_predict\n",
    "    \n",
    "    def accuracy(self,X_test,y_test):\n",
    "        # % that y_test match with y_pred\n",
    "        group = self.predict_model(X_test)\n",
    "        y_pred = pd.DataFrame(group[2]).applymap(lambda x: 1 if x>= 0.5 else 0).astype(float)\n",
    "        num_matches = (y_pred[0] == y_test).sum()\n",
    "        total_obs = y_test.shape[0]\n",
    "        return round((num_matches/total_obs),2)\n",
    "        \n",
    "        \n",
    "    def plot_data(self,X_test):\n",
    "        group = self.predict_model(X_test)\n",
    "        plt.plot(group[0], 'ro',label = '0')\n",
    "        plt.plot(group[1], 'bo',label = '1')\n",
    "        plt.legend()\n",
    "        plt.show()"
   ]
  },
  {
   "cell_type": "code",
   "execution_count": 6,
   "id": "ee714911",
   "metadata": {},
   "outputs": [],
   "source": [
    "model = Logistic_Regression(0.000001,1000000,data_train.iloc[:,:-1],data_train.iloc[:,-1])"
   ]
  },
  {
   "cell_type": "code",
   "execution_count": 7,
   "id": "97fdf977",
   "metadata": {},
   "outputs": [
    {
     "name": "stdout",
     "output_type": "stream",
     "text": [
      "0:00:30.340563\n"
     ]
    }
   ],
   "source": [
    "import datetime as dt\n",
    "before = dt.datetime.now()\n",
    "group = model.predict_model(data_valid.iloc[:,:-1])\n",
    "print(dt.datetime.now() - before)"
   ]
  },
  {
   "cell_type": "code",
   "execution_count": 8,
   "id": "79609b9c",
   "metadata": {},
   "outputs": [
    {
     "data": {
      "text/plain": [
       "0.9"
      ]
     },
     "execution_count": 8,
     "metadata": {},
     "output_type": "execute_result"
    }
   ],
   "source": [
    "model.accuracy(data_valid.iloc[:,:-1], data_valid['y'])"
   ]
  },
  {
   "cell_type": "code",
   "execution_count": 9,
   "id": "4ffe459c",
   "metadata": {},
   "outputs": [
    {
     "data": {
      "image/png": "[encoded data removed]",
      "text/plain": [
       "<Figure size 432x288 with 1 Axes>"
      ]
     },
     "metadata": {
      "needs_background": "light"
     },
     "output_type": "display_data"
    }
   ],
   "source": [
    "model.plot_data(data_valid.iloc[:,:-1])"
   ]
  },
  {
   "cell_type": "code",
   "execution_count": null,
   "id": "eeb7c08e",
   "metadata": {},
   "outputs": [],
   "source": []
  }
 ],
 "metadata": {
  "kernelspec": {
   "display_name": "Python 3 (ipykernel)",
   "language": "python",
   "name": "python3"
  },
  "language_info": {
   "codemirror_mode": {
    "name": "ipython",
    "version": 3
   },
   "file_extension": ".py",
   "mimetype": "text/x-python",
   "name": "python",
   "nbconvert_exporter": "python",
   "pygments_lexer": "ipython3",
   "version": "3.9.12"
  }
 },
 "nbformat": 4,
 "nbformat_minor": 5
}
