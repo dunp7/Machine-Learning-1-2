{
 "cells": [
  {
   "cell_type": "code",
   "execution_count": 17,
   "id": "6842ff4f",
   "metadata": {},
   "outputs": [],
   "source": [
    "import pandas as pd\n",
    "import numpy as np\n",
    "import matplotlib.pyplot as plt\n",
    "from scipy.stats import norm\n",
    "import math"
   ]
  },
  {
   "cell_type": "code",
   "execution_count": 18,
   "id": "d711232f",
   "metadata": {},
   "outputs": [],
   "source": [
    "data = pd.read_csv('ung thư.csv')\n",
    "cate_data = pd.read_csv('adult-Copy1.csv')\n",
    "cate_data.columns = cate_data.columns.str.strip()"
   ]
  },
  {
   "cell_type": "code",
   "execution_count": 19,
   "id": "9203ef4e",
   "metadata": {},
   "outputs": [],
   "source": [
    "cate_data = cate_data.drop(columns = ['2174','0'])\n"
   ]
  },
  {
   "cell_type": "code",
   "execution_count": 20,
   "id": "8c92b059",
   "metadata": {},
   "outputs": [
    {
     "data": {
      "text/plain": [
       "39                  73\n",
       "State-gov            9\n",
       "77516            21647\n",
       "Bachelors           16\n",
       "13                  16\n",
       "Never-married        7\n",
       "Adm-clerical        15\n",
       "Not-in-family        6\n",
       "White                5\n",
       "Male                 2\n",
       "40                  94\n",
       "United-States       42\n",
       "<=50K                2\n",
       "dtype: int64"
      ]
     },
     "execution_count": 20,
     "metadata": {},
     "output_type": "execute_result"
    }
   ],
   "source": [
    "cate_data.nunique()"
   ]
  },
  {
   "cell_type": "markdown",
   "id": "d39fecc6",
   "metadata": {},
   "source": [
    "# Split data"
   ]
  },
  {
   "cell_type": "code",
   "execution_count": 21,
   "id": "3a4cea81",
   "metadata": {},
   "outputs": [],
   "source": [
    "X = data.iloc[:,:-1]\n",
    "y = data.iloc[:,-1]\n"
   ]
  },
  {
   "cell_type": "code",
   "execution_count": 22,
   "id": "8c148db5",
   "metadata": {},
   "outputs": [],
   "source": [
    "from sklearn.model_selection import train_test_split\n",
    "X_train, X_test, y_train, y_test = train_test_split(X, y, test_size=0.25, random_state=42)\n",
    "X1_train,x1_test,y1_train,y1_test = train_test_split(cate_data.iloc[:,:-1],cate_data.iloc[:,-1],test_size=0.25,random_state=42)"
   ]
  },
  {
   "cell_type": "code",
   "execution_count": 23,
   "id": "1298f9a1",
   "metadata": {},
   "outputs": [],
   "source": [
    "data_train = pd.merge(X_train,y_train,left_index=True,right_index=True)\n",
    "data1_train = pd.merge(X1_train,y1_train,left_index=True,right_index=True)"
   ]
  },
  {
   "cell_type": "markdown",
   "id": "be88a61f",
   "metadata": {},
   "source": [
    "# Naive bayes classifier"
   ]
  },
  {
   "cell_type": "code",
   "execution_count": 24,
   "id": "02ace2f1",
   "metadata": {},
   "outputs": [],
   "source": [
    "def split_x_train(data_train,target_column):\n",
    "    grouped = data_train.groupby(target_column)\n",
    "    subframes = {}\n",
    "    for category, group in grouped:\n",
    "        subframes[category] = group.iloc[:,:-1]\n",
    "        \n",
    "    return subframes"
   ]
  },
  {
   "cell_type": "code",
   "execution_count": 25,
   "id": "f559d120",
   "metadata": {},
   "outputs": [],
   "source": [
    "def find_llk_continuous(data):\n",
    "    mean = data.mean(axis = 0)\n",
    "    std = data.std(axis = 0)\n",
    "    return [mean,std]\n",
    "\n",
    "def find_llk_categorical(data):\n",
    "    return data.value_counts(normalize = True)"
   ]
  },
  {
   "cell_type": "code",
   "execution_count": 26,
   "id": "5b47f755",
   "metadata": {},
   "outputs": [],
   "source": [
    "class Naive_bayes_classifier:\n",
    "    \n",
    "    def __init__(self,data,y):\n",
    "        self._X = split_x_train(data,y.name)\n",
    "        self._y = y\n",
    "        self_data = data\n",
    "        self._class_prob = None\n",
    "        \n",
    "    def cal_prior(self):\n",
    "        return y.value_counts(normalize = True)\n",
    "        \n",
    "    def cal_likelihood(self,group):\n",
    "        cate_data = self._X[group].loc[:,self._X[group].nunique() < 5]\n",
    "        cont_data = self._X[group].loc[:,self._X[group].nunique() > 5]\n",
    "        llk_cate = None\n",
    "        llk_cont = None\n",
    "        if not cate_data.empty:\n",
    "            llk_cate = find_llk_categorical(cate_data)\n",
    "        if not cont_data.empty:\n",
    "            llk_cont = find_llk_continuous(cont_data)\n",
    "        return [llk_cate,llk_cont]\n",
    "        \n",
    "    def cal_posterior(self,group,x_test):\n",
    "        prior = self.cal_prior()\n",
    "        llk = self.cal_likelihood(group)\n",
    "        cate_data = x_test.loc[:,x_test.nunique() < 5]\n",
    "        cont_data = x_test.loc[:,x_test.nunique() > 5]\n",
    "        if not cate_data.empty:\n",
    "            pass\n",
    "        if not cont_data.empty:\n",
    "            pdf = norm.pdf(cont_data, loc=llk[1][0], scale= llk[1][1])        \n",
    "            prod = pdf.prod(axis = 1)\n",
    "        return pd.DataFrame(prod * prior[group],columns=[f'{group}'])\n",
    "    \n",
    "    def find_argmax(self,x_test):\n",
    "        df = self.cal_posterior(self._y.unique()[0],x_test)\n",
    "        for i in self._y.unique()[1:]:\n",
    "            df =  pd.merge(df,self.cal_posterior(i,x_test),left_index=True,right_index=True)\n",
    "        # choose appropiate column\n",
    "        df['highest_prob'] = df.idxmax(axis = 1)  \n",
    "        return df[['highest_prob']].astype(int)\n",
    "        "
   ]
  },
  {
   "cell_type": "code",
   "execution_count": 27,
   "id": "4c817f66",
   "metadata": {},
   "outputs": [
    {
     "data": {
      "text/plain": [
       "array([1, 0], dtype=int64)"
      ]
     },
     "execution_count": 27,
     "metadata": {},
     "output_type": "execute_result"
    }
   ],
   "source": [
    "evaluation = Naive_bayes_classifier(data_train,y_train)\n",
    "y_train.unique()"
   ]
  },
  {
   "cell_type": "code",
   "execution_count": 28,
   "id": "2d53682e",
   "metadata": {},
   "outputs": [
    {
     "data": {
      "text/html": [
       "<div>\n",
       "<style scoped>\n",
       "    .dataframe tbody tr th:only-of-type {\n",
       "        vertical-align: middle;\n",
       "    }\n",
       "\n",
       "    .dataframe tbody tr th {\n",
       "        vertical-align: top;\n",
       "    }\n",
       "\n",
       "    .dataframe thead th {\n",
       "        text-align: right;\n",
       "    }\n",
       "</style>\n",
       "<table border=\"1\" class=\"dataframe\">\n",
       "  <thead>\n",
       "    <tr style=\"text-align: right;\">\n",
       "      <th></th>\n",
       "      <th>highest_prob</th>\n",
       "    </tr>\n",
       "  </thead>\n",
       "  <tbody>\n",
       "    <tr>\n",
       "      <th>0</th>\n",
       "      <td>1</td>\n",
       "    </tr>\n",
       "    <tr>\n",
       "      <th>1</th>\n",
       "      <td>0</td>\n",
       "    </tr>\n",
       "    <tr>\n",
       "      <th>2</th>\n",
       "      <td>0</td>\n",
       "    </tr>\n",
       "    <tr>\n",
       "      <th>3</th>\n",
       "      <td>1</td>\n",
       "    </tr>\n",
       "    <tr>\n",
       "      <th>4</th>\n",
       "      <td>1</td>\n",
       "    </tr>\n",
       "    <tr>\n",
       "      <th>...</th>\n",
       "      <td>...</td>\n",
       "    </tr>\n",
       "    <tr>\n",
       "      <th>138</th>\n",
       "      <td>1</td>\n",
       "    </tr>\n",
       "    <tr>\n",
       "      <th>139</th>\n",
       "      <td>1</td>\n",
       "    </tr>\n",
       "    <tr>\n",
       "      <th>140</th>\n",
       "      <td>1</td>\n",
       "    </tr>\n",
       "    <tr>\n",
       "      <th>141</th>\n",
       "      <td>0</td>\n",
       "    </tr>\n",
       "    <tr>\n",
       "      <th>142</th>\n",
       "      <td>1</td>\n",
       "    </tr>\n",
       "  </tbody>\n",
       "</table>\n",
       "<p>143 rows × 1 columns</p>\n",
       "</div>"
      ],
      "text/plain": [
       "     highest_prob\n",
       "0               1\n",
       "1               0\n",
       "2               0\n",
       "3               1\n",
       "4               1\n",
       "..            ...\n",
       "138             1\n",
       "139             1\n",
       "140             1\n",
       "141             0\n",
       "142             1\n",
       "\n",
       "[143 rows x 1 columns]"
      ]
     },
     "execution_count": 28,
     "metadata": {},
     "output_type": "execute_result"
    }
   ],
   "source": [
    "y_predict = evaluation.find_argmax(x_test=X_test)\n",
    "y_predict"
   ]
  },
  {
   "cell_type": "code",
   "execution_count": 29,
   "id": "42449f9b",
   "metadata": {},
   "outputs": [
    {
     "data": {
      "text/plain": [
       "0      1\n",
       "1      0\n",
       "2      0\n",
       "3      1\n",
       "4      1\n",
       "      ..\n",
       "138    1\n",
       "139    1\n",
       "140    1\n",
       "141    0\n",
       "142    1\n",
       "Name: highest_prob, Length: 143, dtype: int32"
      ]
     },
     "execution_count": 29,
     "metadata": {},
     "output_type": "execute_result"
    }
   ],
   "source": [
    "y = pd.DataFrame(y_test).reset_index().drop(columns=['index'])\n",
    "# accuracy\n",
    "y_predict['highest_prob']"
   ]
  },
  {
   "cell_type": "code",
   "execution_count": 30,
   "id": "84e4b1cf",
   "metadata": {},
   "outputs": [
    {
     "data": {
      "text/plain": [
       "0.95"
      ]
     },
     "execution_count": 30,
     "metadata": {},
     "output_type": "execute_result"
    }
   ],
   "source": [
    "num_matches = (y_predict['highest_prob'] == y['diagnosis']).sum()\n",
    "total_obs = y.shape[0]\n",
    "accuracy = round(num_matches/total_obs,2)\n",
    "accuracy"
   ]
  },
  {
   "cell_type": "code",
   "execution_count": 34,
   "id": "f864a915",
   "metadata": {},
   "outputs": [
    {
     "data": {
      "text/plain": [
       "array([' <=50K', ' >50K'], dtype=object)"
      ]
     },
     "execution_count": 34,
     "metadata": {},
     "output_type": "execute_result"
    }
   ],
   "source": [
    "data2 = Naive_bayes_classifier(data1_train,y1_train)\n",
    "y1_train.unique()"
   ]
  },
  {
   "cell_type": "code",
   "execution_count": 35,
   "id": "702f2c32",
   "metadata": {},
   "outputs": [
    {
     "ename": "KeyError",
     "evalue": "'>50K'",
     "output_type": "error",
     "traceback": [
      "\u001b[1;31m---------------------------------------------------------------------------\u001b[0m",
      "\u001b[1;31mKeyError\u001b[0m                                  Traceback (most recent call last)",
      "Input \u001b[1;32mIn [35]\u001b[0m, in \u001b[0;36m<cell line: 1>\u001b[1;34m()\u001b[0m\n\u001b[1;32m----> 1\u001b[0m \u001b[43mdata2\u001b[49m\u001b[38;5;241;43m.\u001b[39;49m\u001b[43mcal_likelihood\u001b[49m\u001b[43m(\u001b[49m\u001b[38;5;124;43m'\u001b[39;49m\u001b[38;5;124;43m>50K\u001b[39;49m\u001b[38;5;124;43m'\u001b[39;49m\u001b[43m)\u001b[49m\n",
      "Input \u001b[1;32mIn [26]\u001b[0m, in \u001b[0;36mNaive_bayes_classifier.cal_likelihood\u001b[1;34m(self, group)\u001b[0m\n\u001b[0;32m     12\u001b[0m \u001b[38;5;28;01mdef\u001b[39;00m \u001b[38;5;21mcal_likelihood\u001b[39m(\u001b[38;5;28mself\u001b[39m,group):\n\u001b[1;32m---> 13\u001b[0m     cate_data \u001b[38;5;241m=\u001b[39m \u001b[38;5;28;43mself\u001b[39;49m\u001b[38;5;241;43m.\u001b[39;49m\u001b[43m_X\u001b[49m\u001b[43m[\u001b[49m\u001b[43mgroup\u001b[49m\u001b[43m]\u001b[49m\u001b[38;5;241m.\u001b[39mloc[:,\u001b[38;5;28mself\u001b[39m\u001b[38;5;241m.\u001b[39m_X[group]\u001b[38;5;241m.\u001b[39mnunique() \u001b[38;5;241m<\u001b[39m \u001b[38;5;241m5\u001b[39m]\n\u001b[0;32m     14\u001b[0m     cont_data \u001b[38;5;241m=\u001b[39m \u001b[38;5;28mself\u001b[39m\u001b[38;5;241m.\u001b[39m_X[group]\u001b[38;5;241m.\u001b[39mloc[:,\u001b[38;5;28mself\u001b[39m\u001b[38;5;241m.\u001b[39m_X[group]\u001b[38;5;241m.\u001b[39mnunique() \u001b[38;5;241m>\u001b[39m \u001b[38;5;241m5\u001b[39m]\n\u001b[0;32m     15\u001b[0m     llk_cate \u001b[38;5;241m=\u001b[39m \u001b[38;5;28;01mNone\u001b[39;00m\n",
      "\u001b[1;31mKeyError\u001b[0m: '>50K'"
     ]
    }
   ],
   "source": [
    "data2.cal_likelihood('>50K')"
   ]
  },
  {
   "cell_type": "code",
   "execution_count": null,
   "id": "e0f34389",
   "metadata": {},
   "outputs": [],
   "source": []
  }
 ],
 "metadata": {
  "kernelspec": {
   "display_name": "Python 3 (ipykernel)",
   "language": "python",
   "name": "python3"
  },
  "language_info": {
   "codemirror_mode": {
    "name": "ipython",
    "version": 3
   },
   "file_extension": ".py",
   "mimetype": "text/x-python",
   "name": "python",
   "nbconvert_exporter": "python",
   "pygments_lexer": "ipython3",
   "version": "3.9.12"
  }
 },
 "nbformat": 4,
 "nbformat_minor": 5
}
